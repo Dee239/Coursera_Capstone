{
 "cells": [
  {
   "cell_type": "markdown",
   "metadata": {},
   "source": [
    "### First install and import required packages. "
   ]
  },
  {
   "cell_type": "code",
   "execution_count": 1,
   "metadata": {},
   "outputs": [
    {
     "name": "stdout",
     "output_type": "stream",
     "text": [
      "Collecting package metadata (current_repodata.json): done\n",
      "Solving environment: done\n",
      "\n",
      "\n",
      "==> WARNING: A newer version of conda exists. <==\n",
      "  current version: 4.8.3\n",
      "  latest version: 4.8.4\n",
      "\n",
      "Please update conda by running\n",
      "\n",
      "    $ conda update -n base -c defaults conda\n",
      "\n",
      "\n",
      "\n",
      "# All requested packages already installed.\n",
      "\n",
      "Collecting package metadata (current_repodata.json): done\n",
      "Solving environment: done\n",
      "\n",
      "\n",
      "==> WARNING: A newer version of conda exists. <==\n",
      "  current version: 4.8.3\n",
      "  latest version: 4.8.4\n",
      "\n",
      "Please update conda by running\n",
      "\n",
      "    $ conda update -n base -c defaults conda\n",
      "\n",
      "\n",
      "\n",
      "# All requested packages already installed.\n",
      "\n"
     ]
    }
   ],
   "source": [
    "!conda install -c conda-forge pydotplus -y\n",
    "!conda install -c conda-forge python-graphviz -y"
   ]
  },
  {
   "cell_type": "code",
   "execution_count": 2,
   "metadata": {},
   "outputs": [],
   "source": [
    "import itertools\n",
    "import numpy as np\n",
    "import matplotlib.pyplot as plt\n",
    "from matplotlib.ticker import NullFormatter\n",
    "import pandas as pd\n",
    "import numpy as np\n",
    "import matplotlib.ticker as ticker\n",
    "from sklearn import preprocessing\n",
    "from sklearn.model_selection import train_test_split\n",
    "from sklearn import metrics\n",
    "\n",
    "from sklearn.externals.six import StringIO\n",
    "import pydotplus\n",
    "import matplotlib.image as mpimg\n",
    "from sklearn import tree\n",
    "import graphviz\n",
    "from sklearn.neighbors import KNeighborsClassifier\n",
    "\n",
    "from sklearn.linear_model import LogisticRegression\n",
    "from sklearn.metrics import confusion_matrix\n",
    "from sklearn.metrics import jaccard_similarity_score\n",
    "from sklearn.metrics import f1_score\n",
    "from sklearn.metrics import log_loss\n",
    "\n",
    "from sklearn.metrics import classification_report, confusion_matrix\n",
    "import itertools\n",
    "\n",
    "%matplotlib inline"
   ]
  },
  {
   "cell_type": "markdown",
   "metadata": {},
   "source": [
    "#### Read the dataset. Remove duplicate column."
   ]
  },
  {
   "cell_type": "code",
   "execution_count": 3,
   "metadata": {},
   "outputs": [
    {
     "name": "stderr",
     "output_type": "stream",
     "text": [
      "/home/jupyterlab/conda/envs/python/lib/python3.6/site-packages/IPython/core/interactiveshell.py:3072: DtypeWarning: Columns (33) have mixed types.Specify dtype option on import or set low_memory=False.\n",
      "  interactivity=interactivity, compiler=compiler, result=result)\n"
     ]
    },
    {
     "name": "stdout",
     "output_type": "stream",
     "text": [
      "(194673, 37)\n"
     ]
    }
   ],
   "source": [
    "df = pd.read_csv('https://s3.us.cloud-object-storage.appdomain.cloud/cf-courses-data/CognitiveClass/DP0701EN/version-2/Data-Collisions.csv')\n",
    "df.drop(df.columns[13], axis=1, inplace = True)\n",
    "print(df.shape)"
   ]
  },
  {
   "cell_type": "markdown",
   "metadata": {},
   "source": [
    "### Get the columns we are interested reviewing. For the purposes of this project, only columns which may be converted into categorical data points are reviewed. Reset index and drop missing values."
   ]
  },
  {
   "cell_type": "code",
   "execution_count": 4,
   "metadata": {},
   "outputs": [
    {
     "name": "stdout",
     "output_type": "stream",
     "text": [
      "(183177, 11)\n"
     ]
    }
   ],
   "source": [
    "df_columns = ['COLLISIONTYPE', 'JUNCTIONTYPE','PERSONCOUNT', 'PEDCOUNT', 'PEDCYLCOUNT', 'VEHCOUNT',\n",
    "         'WEATHER', 'ROADCOND', 'LIGHTCOND', 'SEVERITYDESC']\n",
    "\n",
    "df = df[df_columns]\n",
    "df.reset_index(inplace = True)\n",
    "df.dropna(inplace=True)\n",
    "\n",
    "print(df.shape)"
   ]
  },
  {
   "cell_type": "markdown",
   "metadata": {},
   "source": [
    "### Create a list of the columns which need to be changes from strings to integer cateogircal labels."
   ]
  },
  {
   "cell_type": "code",
   "execution_count": 5,
   "metadata": {},
   "outputs": [],
   "source": [
    "convert_variables = ['COLLISIONTYPE', 'JUNCTIONTYPE', 'WEATHER', 'ROADCOND', 'LIGHTCOND']"
   ]
  },
  {
   "cell_type": "markdown",
   "metadata": {},
   "source": [
    "### Create a list of variables to use as inputs. Note that this may be modified to run trials for different combinations of X inputs. For our first trial, we will use all variables above."
   ]
  },
  {
   "cell_type": "code",
   "execution_count": 6,
   "metadata": {},
   "outputs": [],
   "source": [
    "x_list = ['COLLISIONTYPE', 'JUNCTIONTYPE','WEATHER', 'ROADCOND', 'LIGHTCOND', \n",
    "          'PERSONCOUNT', 'PEDCOUNT', 'PEDCYLCOUNT', 'VEHCOUNT']"
   ]
  },
  {
   "cell_type": "markdown",
   "metadata": {},
   "source": [
    "### Convert x_list to numpy array and Create train and test sets. Also print the features used in the model along with the feauter's index."
   ]
  },
  {
   "cell_type": "code",
   "execution_count": 7,
   "metadata": {},
   "outputs": [
    {
     "name": "stdout",
     "output_type": "stream",
     "text": [
      "COLLISIONTYPE 0\n",
      "JUNCTIONTYPE 1\n",
      "WEATHER 2\n",
      "ROADCOND 3\n",
      "LIGHTCOND 4\n"
     ]
    },
    {
     "name": "stderr",
     "output_type": "stream",
     "text": [
      "/home/jupyterlab/conda/envs/python/lib/python3.6/site-packages/sklearn/utils/validation.py:595: DataConversionWarning: Data with input dtype object was converted to float64 by StandardScaler.\n",
      "  warnings.warn(msg, DataConversionWarning)\n"
     ]
    }
   ],
   "source": [
    "X = df[x_list].values\n",
    "\n",
    "for feature in x_list:\n",
    "    feature_index = x_list.index(feature)\n",
    "    if feature in convert_variables:\n",
    "        print(feature, feature_index)\n",
    "        value_count = df[feature].value_counts()\n",
    "        feature_list = []\n",
    "        for category in value_count.index:\n",
    "            feature_list.append(category)\n",
    "        le_feature = preprocessing.LabelEncoder()\n",
    "        le_feature.fit(feature_list)\n",
    "        X[:,feature_index] = le_feature.transform(X[:,feature_index])\n",
    "\n",
    "X = preprocessing.StandardScaler().fit(X).transform(X.astype(float))\n",
    "X[0:5]\n",
    "\n",
    "y = df['SEVERITYDESC']\n",
    "\n",
    "X_trainset, X_testset, y_trainset, y_testset = train_test_split(X, y, test_size=0.3, random_state=3)"
   ]
  },
  {
   "cell_type": "markdown",
   "metadata": {},
   "source": [
    "### Run and plot the results of KNN model, with K's = 10"
   ]
  },
  {
   "cell_type": "code",
   "execution_count": 8,
   "metadata": {},
   "outputs": [
    {
     "data": {
      "image/png": "[encoded data removed]",
      "text/plain": [
       "<Figure size 432x288 with 1 Axes>"
      ]
     },
     "metadata": {
      "needs_background": "light"
     },
     "output_type": "display_data"
    },
    {
     "name": "stdout",
     "output_type": "stream",
     "text": [
      "The best accuracy was with 0.7329220802853296 with k= 9\n"
     ]
    }
   ],
   "source": [
    "Ks = 10\n",
    "mean_acc = np.zeros((Ks-1))\n",
    "std_acc = np.zeros((Ks-1))\n",
    "ConfustionMx = [];\n",
    "for n in range(1,Ks):\n",
    "    \n",
    "    #Train Model and Predict  \n",
    "    neigh = KNeighborsClassifier(n_neighbors = n).fit(X_trainset,y_trainset)\n",
    "    yhat=neigh.predict(X_testset)\n",
    "    mean_acc[n-1] = metrics.accuracy_score(y_testset, yhat)\n",
    "\n",
    "    \n",
    "    std_acc[n-1]=np.std(yhat==y_testset)/np.sqrt(yhat.shape[0])\n",
    "\n",
    "mean_acc\n",
    "\n",
    "plt.plot(range(1,Ks),mean_acc,'g')\n",
    "plt.fill_between(range(1,Ks),mean_acc - 1 * std_acc,mean_acc + 1 * std_acc, alpha=0.10)\n",
    "plt.legend(('Accuracy ', '+/- 3xstd'))\n",
    "plt.ylabel('Accuracy ')\n",
    "plt.xlabel('Number of Nabors (K)')\n",
    "plt.tight_layout()\n",
    "plt.show()\n",
    "\n",
    "print( \"The best accuracy was with\", mean_acc.max(), \"with k=\", mean_acc.argmax()+1)"
   ]
  },
  {
   "cell_type": "markdown",
   "metadata": {},
   "source": [
    "### We see that best results for this model is with k = 9. Lets get evaluation metrics for k = 9 on the test set."
   ]
  },
  {
   "cell_type": "code",
   "execution_count": 9,
   "metadata": {},
   "outputs": [
    {
     "name": "stdout",
     "output_type": "stream",
     "text": [
      "KNN Train set Accuracy:  0.743003239072679\n",
      "KNN F1 Socre:  0.7334224164062407\n",
      "KNN Jaccard Score:  0.743003239072679\n"
     ]
    }
   ],
   "source": [
    "k = 9\n",
    "#Train Model and Predict  \n",
    "neigh = KNeighborsClassifier(n_neighbors = k).fit(X_testset, y_testset)\n",
    "neigh\n",
    "yhat = neigh.predict(X_testset)\n",
    "\n",
    "knn_test_acc = metrics.accuracy_score(y_testset, neigh.predict(X_testset))\n",
    "knn_f1_test = f1_score(y_testset, yhat, average='weighted')\n",
    "knn_jaccard_test = jaccard_similarity_score(y_testset, yhat)\n",
    "\n",
    "\n",
    "print(\"KNN Test set Accuracy: \", knn_test_acc)\n",
    "print('KNN F1 Socre: ', knn_f1_test)\n",
    "print('KNN Jaccard Score: ', knn_jaccard_test)"
   ]
  },
  {
   "cell_type": "markdown",
   "metadata": {},
   "source": [
    "### Using all variables above we can predict with .73 accuracy the severity of an accident, with k = 9. However, an arugment can be made that variables such as 'PERSONCOUNT', 'PEDCOUNT', 'PEDCYLCOUNT', and 'VEHCOUNT' should be removed. One does not need a machine learning model to predict if an accident involving pedistrians, bicyclest or multi car accients may be severe. Also, PERSONCOUNT may be removed as one can assume that the odds of an injury increase as there are more individuals invovled in an accident who may be injured. Let us focus on features related to road contitions, weather and lighting only. "
   ]
  },
  {
   "cell_type": "code",
   "execution_count": 10,
   "metadata": {},
   "outputs": [
    {
     "name": "stdout",
     "output_type": "stream",
     "text": [
      "WEATHER 0\n",
      "ROADCOND 1\n",
      "LIGHTCOND 2\n"
     ]
    },
    {
     "name": "stderr",
     "output_type": "stream",
     "text": [
      "/home/jupyterlab/conda/envs/python/lib/python3.6/site-packages/sklearn/utils/validation.py:595: DataConversionWarning: Data with input dtype object was converted to float64 by StandardScaler.\n",
      "  warnings.warn(msg, DataConversionWarning)\n"
     ]
    }
   ],
   "source": [
    "x_list = ['WEATHER', 'ROADCOND', 'LIGHTCOND']\n",
    "\n",
    "X = df[x_list].values\n",
    "\n",
    "for feature in x_list:\n",
    "    feature_index = x_list.index(feature)\n",
    "    if feature in convert_variables:\n",
    "        print(feature, feature_index)\n",
    "        value_count = df[feature].value_counts()\n",
    "        feature_list = []\n",
    "        for category in value_count.index:\n",
    "            feature_list.append(category)\n",
    "        le_feature = preprocessing.LabelEncoder()\n",
    "        le_feature.fit(feature_list)\n",
    "        X[:,feature_index] = le_feature.transform(X[:,feature_index])\n",
    "\n",
    "\n",
    "X = preprocessing.StandardScaler().fit(X).transform(X.astype(float))\n",
    "X[0:5]\n",
    "\n",
    "y = df['SEVERITYDESC']\n",
    "\n",
    "X_trainset, X_testset, y_trainset, y_testset = train_test_split(X, y, test_size=0.3, random_state=3)"
   ]
  },
  {
   "cell_type": "code",
   "execution_count": 11,
   "metadata": {},
   "outputs": [
    {
     "data": {
      "image/png": "[encoded data removed]",
      "text/plain": [
       "<Figure size 432x288 with 1 Axes>"
      ]
     },
     "metadata": {
      "needs_background": "light"
     },
     "output_type": "display_data"
    },
    {
     "name": "stdout",
     "output_type": "stream",
     "text": [
      "The best accuracy was with 0.6889398405939513 with k= 7\n"
     ]
    }
   ],
   "source": [
    "Ks = 10\n",
    "mean_acc = np.zeros((Ks-1))\n",
    "std_acc = np.zeros((Ks-1))\n",
    "ConfustionMx = [];\n",
    "for n in range(1,Ks):\n",
    "    \n",
    "    #Train Model and Predict  \n",
    "    neigh = KNeighborsClassifier(n_neighbors = n).fit(X_trainset,y_trainset)\n",
    "    yhat=neigh.predict(X_testset)\n",
    "    mean_acc[n-1] = metrics.accuracy_score(y_testset, yhat)\n",
    "\n",
    "    \n",
    "    std_acc[n-1]=np.std(yhat==y_testset)/np.sqrt(yhat.shape[0])\n",
    "\n",
    "mean_acc\n",
    "\n",
    "plt.plot(range(1,Ks),mean_acc,'g')\n",
    "plt.fill_between(range(1,Ks),mean_acc - 1 * std_acc,mean_acc + 1 * std_acc, alpha=0.10)\n",
    "plt.legend(('Accuracy ', '+/- 3xstd'))\n",
    "plt.ylabel('Accuracy ')\n",
    "plt.xlabel('Number of Nabors (K)')\n",
    "plt.tight_layout()\n",
    "plt.show()\n",
    "\n",
    "print( \"The best accuracy was with\", mean_acc.max(), \"with k=\", mean_acc.argmax()+1)"
   ]
  },
  {
   "cell_type": "markdown",
   "metadata": {},
   "source": [
    "### We see that this model is slightly less accurate than the former, at .68 accuracy, with k = 7. Next, see how this compares to using only the type of collison and type of intersection."
   ]
  },
  {
   "cell_type": "markdown",
   "metadata": {},
   "source": [
    "### We see that best results for this model is with k = 7. Lets get evaluation metrics for k = 7 on the test set."
   ]
  },
  {
   "cell_type": "code",
   "execution_count": 12,
   "metadata": {},
   "outputs": [
    {
     "name": "stdout",
     "output_type": "stream",
     "text": [
      "KNN Train set Accuracy:  0.6847181278887797\n",
      "KNN F1 Socre:  0.5755876059840361\n",
      "KNN Jaccard Score:  0.6847181278887797\n"
     ]
    }
   ],
   "source": [
    "k = 7\n",
    "#Train Model and Predict  \n",
    "neigh = KNeighborsClassifier(n_neighbors = k).fit(X_testset, y_testset)\n",
    "neigh\n",
    "yhat = neigh.predict(X_testset)\n",
    "\n",
    "knn_test_acc = metrics.accuracy_score(y_testset, neigh.predict(X_testset))\n",
    "knn_f1_test = f1_score(y_testset, yhat, average='weighted')\n",
    "knn_jaccard_test = jaccard_similarity_score(y_testset, yhat)\n",
    "\n",
    "\n",
    "print(\"KNN Test set Accuracy: \", knn_test_acc)\n",
    "print('KNN F1 Socre: ', knn_f1_test)\n",
    "print('KNN Jaccard Score: ', knn_jaccard_test)"
   ]
  },
  {
   "cell_type": "markdown",
   "metadata": {},
   "source": [
    "### Now compare to results for Collisoin type and junction type."
   ]
  },
  {
   "cell_type": "code",
   "execution_count": 13,
   "metadata": {},
   "outputs": [
    {
     "name": "stdout",
     "output_type": "stream",
     "text": [
      "COLLISIONTYPE 0\n",
      "JUNCTIONTYPE 1\n",
      "[[0 1]\n",
      " [9 4]\n",
      " [5 4]\n",
      " ...\n",
      " [3 1]\n",
      " [1 1]\n",
      " [7 4]]\n"
     ]
    },
    {
     "name": "stderr",
     "output_type": "stream",
     "text": [
      "/home/jupyterlab/conda/envs/python/lib/python3.6/site-packages/sklearn/utils/validation.py:595: DataConversionWarning: Data with input dtype object was converted to float64 by StandardScaler.\n",
      "  warnings.warn(msg, DataConversionWarning)\n"
     ]
    },
    {
     "data": {
      "image/png": "[encoded data removed]",
      "text/plain": [
       "<Figure size 432x288 with 1 Axes>"
      ]
     },
     "metadata": {
      "needs_background": "light"
     },
     "output_type": "display_data"
    },
    {
     "name": "stdout",
     "output_type": "stream",
     "text": [
      "The best accuracy was with 0.717964115442006 with k= 5\n"
     ]
    }
   ],
   "source": [
    "x_list = ['COLLISIONTYPE', 'JUNCTIONTYPE']\n",
    "\n",
    "X = df[x_list].values\n",
    "\n",
    "for feature in x_list:\n",
    "    feature_index = x_list.index(feature)\n",
    "    if feature in convert_variables:\n",
    "        print(feature, feature_index)\n",
    "        value_count = df[feature].value_counts()\n",
    "        feature_list = []\n",
    "        for category in value_count.index:\n",
    "            feature_list.append(category)\n",
    "        le_feature = preprocessing.LabelEncoder()\n",
    "        le_feature.fit(feature_list)\n",
    "        X[:,feature_index] = le_feature.transform(X[:,feature_index])\n",
    "\n",
    "print(X)\n",
    "\n",
    "X = preprocessing.StandardScaler().fit(X).transform(X.astype(float))\n",
    "X[0:5]\n",
    "\n",
    "y = df['SEVERITYDESC']\n",
    "\n",
    "X_trainset, X_testset, y_trainset, y_testset = train_test_split(X, y, test_size=0.3, random_state=3)\n",
    "\n",
    "Ks = 10\n",
    "mean_acc = np.zeros((Ks-1))\n",
    "std_acc = np.zeros((Ks-1))\n",
    "ConfustionMx = [];\n",
    "for n in range(1,Ks):\n",
    "    \n",
    "    #Train Model and Predict  \n",
    "    neigh = KNeighborsClassifier(n_neighbors = n).fit(X_trainset,y_trainset)\n",
    "    yhat=neigh.predict(X_testset)\n",
    "    mean_acc[n-1] = metrics.accuracy_score(y_testset, yhat)\n",
    "\n",
    "    \n",
    "    std_acc[n-1]=np.std(yhat==y_testset)/np.sqrt(yhat.shape[0])\n",
    "\n",
    "mean_acc\n",
    "\n",
    "plt.plot(range(1,Ks),mean_acc,'g')\n",
    "plt.fill_between(range(1,Ks),mean_acc - 1 * std_acc,mean_acc + 1 * std_acc, alpha=0.10)\n",
    "plt.legend(('Accuracy ', '+/- 3xstd'))\n",
    "plt.ylabel('Accuracy ')\n",
    "plt.xlabel('Number of Nabors (K)')\n",
    "plt.tight_layout()\n",
    "plt.show()\n",
    "\n",
    "print( \"The best accuracy was with\", mean_acc.max(), \"with k=\", mean_acc.argmax()+1)"
   ]
  },
  {
   "cell_type": "markdown",
   "metadata": {},
   "source": [
    "### Using 'COLLISIONTYPE', 'JUNCTIONTYPE' only, accuracy is slightly less than our model including all variables at .71 accuraccy, with K = 5. Now, get evaluation metrics for the test set."
   ]
  },
  {
   "cell_type": "code",
   "execution_count": 14,
   "metadata": {},
   "outputs": [
    {
     "name": "stdout",
     "output_type": "stream",
     "text": [
      "KNN Train set Accuracy:  0.6992211667940459\n",
      "KNN F1 Socre:  0.6678779124154328\n",
      "KNN Jaccard Score:  0.6992211667940459\n"
     ]
    }
   ],
   "source": [
    "k = 5\n",
    "#Train Model and Predict  \n",
    "neigh = KNeighborsClassifier(n_neighbors = k).fit(X_testset, y_testset)\n",
    "neigh\n",
    "yhat = neigh.predict(X_testset)\n",
    "\n",
    "knn_test_acc = metrics.accuracy_score(y_testset, neigh.predict(X_testset))\n",
    "knn_f1_test = f1_score(y_testset, yhat, average='weighted')\n",
    "knn_jaccard_test = jaccard_similarity_score(y_testset, yhat)\n",
    "\n",
    "\n",
    "print(\"KNN Test set Accuracy: \", knn_test_acc)\n",
    "print('KNN F1 Socre: ', knn_f1_test)\n",
    "print('KNN Jaccard Score: ', knn_jaccard_test)"
   ]
  },
  {
   "cell_type": "markdown",
   "metadata": {},
   "source": [
    "### Now, lets compare KNN results to logistic regression. For simplicity, only the model with ROADCON and JUNCTIONTYPE were compared as this was our best model."
   ]
  },
  {
   "cell_type": "code",
   "execution_count": 17,
   "metadata": {},
   "outputs": [
    {
     "name": "stdout",
     "output_type": "stream",
     "text": [
      "COLLISIONTYPE 0\n",
      "JUNCTIONTYPE 1\n",
      "[[0 1]\n",
      " [9 4]\n",
      " [5 4]\n",
      " ...\n",
      " [3 1]\n",
      " [1 1]\n",
      " [7 4]]\n"
     ]
    },
    {
     "name": "stderr",
     "output_type": "stream",
     "text": [
      "/home/jupyterlab/conda/envs/python/lib/python3.6/site-packages/sklearn/utils/validation.py:595: DataConversionWarning: Data with input dtype object was converted to float64 by StandardScaler.\n",
      "  warnings.warn(msg, DataConversionWarning)\n"
     ]
    }
   ],
   "source": [
    "x_list = ['COLLISIONTYPE', 'JUNCTIONTYPE']\n",
    "\n",
    "X = df[x_list].values\n",
    "\n",
    "for feature in x_list:\n",
    "    feature_index = x_list.index(feature)\n",
    "    if feature in convert_variables:\n",
    "        print(feature, feature_index)\n",
    "        value_count = df[feature].value_counts()\n",
    "        feature_list = []\n",
    "        for category in value_count.index:\n",
    "            feature_list.append(category)\n",
    "        le_feature = preprocessing.LabelEncoder()\n",
    "        le_feature.fit(feature_list)\n",
    "        X[:,feature_index] = le_feature.transform(X[:,feature_index])\n",
    "\n",
    "print(X)\n",
    "\n",
    "X = preprocessing.StandardScaler().fit(X).transform(X.astype(float))\n",
    "X[0:5]\n",
    "\n",
    "y = df['SEVERITYDESC']\n",
    "\n",
    "X_trainset, X_testset, y_trainset, y_testset = train_test_split(X, y, test_size=0.3, random_state=3)### Now, lets compare the results we found from KNN models to Logistic Regression. For simplicity, we will compare the results usint ______ which is our best result above."
   ]
  },
  {
   "cell_type": "code",
   "execution_count": 25,
   "metadata": {},
   "outputs": [
    {
     "name": "stdout",
     "output_type": "stream",
     "text": [
      "Jaccard score:  0.6915056228845944 , Log loss:  0.5980212374406664\n",
      "                                precision    recall  f1-score   support\n",
      "\n",
      "              Injury Collision       0.38      0.00      0.00     16934\n",
      "Property Damage Only Collision       0.69      1.00      0.82     38020\n",
      "\n",
      "                     micro avg       0.69      0.69      0.69     54954\n",
      "                     macro avg       0.54      0.50      0.41     54954\n",
      "                  weighted avg       0.60      0.69      0.57     54954\n",
      "\n"
     ]
    }
   ],
   "source": [
    "LR = LogisticRegression(C=0.01, solver='liblinear').fit(X_trainset, y_trainset)\n",
    "LR\n",
    "yhat = LR.predict(X_testset)\n",
    "yhat\n",
    "\n",
    "yhat_prob = LR.predict_proba(X_testset)\n",
    "yhat_prob\n",
    "\n",
    "print('Jaccard score: ', jaccard_similarity_score(y_testset, yhat), ', Log loss: ', log_loss(y_testset, yhat_prob))\n",
    "print (classification_report(y_testset, yhat))"
   ]
  },
  {
   "cell_type": "code",
   "execution_count": 26,
   "metadata": {},
   "outputs": [
    {
     "name": "stdout",
     "output_type": "stream",
     "text": [
      "WEATHER 0\n",
      "ROADCOND 1\n",
      "LIGHTCOND 2\n"
     ]
    },
    {
     "name": "stderr",
     "output_type": "stream",
     "text": [
      "/home/jupyterlab/conda/envs/python/lib/python3.6/site-packages/sklearn/utils/validation.py:595: DataConversionWarning: Data with input dtype object was converted to float64 by StandardScaler.\n",
      "  warnings.warn(msg, DataConversionWarning)\n"
     ]
    },
    {
     "name": "stdout",
     "output_type": "stream",
     "text": [
      "Jaccard score:  0.6918513665975179 , Log loss:  0.611480023359867\n"
     ]
    },
    {
     "name": "stderr",
     "output_type": "stream",
     "text": [
      "/home/jupyterlab/conda/envs/python/lib/python3.6/site-packages/sklearn/metrics/classification.py:1143: UndefinedMetricWarning: Precision and F-score are ill-defined and being set to 0.0 in labels with no predicted samples.\n",
      "  'precision', 'predicted', average, warn_for)\n"
     ]
    },
    {
     "name": "stdout",
     "output_type": "stream",
     "text": [
      "                                precision    recall  f1-score   support\n",
      "\n",
      "              Injury Collision       0.00      0.00      0.00     16934\n",
      "Property Damage Only Collision       0.69      1.00      0.82     38020\n",
      "\n",
      "                     micro avg       0.69      0.69      0.69     54954\n",
      "                     macro avg       0.35      0.50      0.41     54954\n",
      "                  weighted avg       0.48      0.69      0.57     54954\n",
      "\n"
     ]
    }
   ],
   "source": [
    "x_list = ['WEATHER', 'ROADCOND', 'LIGHTCOND']\n",
    "\n",
    "X = df[x_list].values\n",
    "\n",
    "for feature in x_list:\n",
    "    feature_index = x_list.index(feature)\n",
    "    if feature in convert_variables:\n",
    "        print(feature, feature_index)\n",
    "        value_count = df[feature].value_counts()\n",
    "        feature_list = []\n",
    "        for category in value_count.index:\n",
    "            feature_list.append(category)\n",
    "        le_feature = preprocessing.LabelEncoder()\n",
    "        le_feature.fit(feature_list)\n",
    "        X[:,feature_index] = le_feature.transform(X[:,feature_index])\n",
    "\n",
    "\n",
    "X = preprocessing.StandardScaler().fit(X).transform(X.astype(float))\n",
    "X[0:5]\n",
    "\n",
    "y = df['SEVERITYDESC']\n",
    "\n",
    "X_trainset, X_testset, y_trainset, y_testset = train_test_split(X, y, test_size=0.3, random_state=3)\n",
    "\n",
    "LR = LogisticRegression(C=0.01, solver='liblinear').fit(X_trainset, y_trainset)\n",
    "LR\n",
    "yhat = LR.predict(X_testset)\n",
    "yhat\n",
    "\n",
    "yhat_prob = LR.predict_proba(X_testset)\n",
    "yhat_prob\n",
    "\n",
    "print('Jaccard score: ', jaccard_similarity_score(y_testset, yhat), ', Log loss: ', log_loss(y_testset, yhat_prob))\n",
    "print (classification_report(y_testset, yhat))\n",
    "\n"
   ]
  },
  {
   "cell_type": "code",
   "execution_count": 16,
   "metadata": {},
   "outputs": [],
   "source": []
  },
  {
   "cell_type": "code",
   "execution_count": null,
   "metadata": {},
   "outputs": [],
   "source": []
  },
  {
   "cell_type": "code",
   "execution_count": null,
   "metadata": {},
   "outputs": [],
   "source": []
  }
 ],
 "metadata": {
  "kernelspec": {
   "display_name": "Python",
   "language": "python",
   "name": "conda-env-python-py"
  },
  "language_info": {
   "codemirror_mode": {
    "name": "ipython",
    "version": 3
   },
   "file_extension": ".py",
   "mimetype": "text/x-python",
   "name": "python",
   "nbconvert_exporter": "python",
   "pygments_lexer": "ipython3",
   "version": "3.6.11"
  }
 },
 "nbformat": 4,
 "nbformat_minor": 4
}
